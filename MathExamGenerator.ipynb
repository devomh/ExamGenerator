{
  "nbformat": 4,
  "nbformat_minor": 0,
  "metadata": {
    "colab": {
      "provenance": []
    },
    "kernelspec": {
      "name": "python3",
      "display_name": "Python 3"
    },
    "language_info": {
      "name": "python"
    }
  },
  "cells": [
    {
      "cell_type": "markdown",
      "source": [
        "# Math Exam Generator\n",
        "\n",
        "1. Provide a template using plain text.\n",
        "  - Choose appropiate method to express placeholders for later replacement.\n",
        "  - Maybe a kind of hierarchy will be needed to handle templates for questions and a template for the whole exam.\n",
        "1. Establish a class that will control problem generation.\n",
        "  - This class will have a function that will generate a whole question.\n",
        "1. Establish a class that will have a list of problem instances. The class in itself will have a template that will serve to create the final whole exam.\n",
        "\n",
        "\n",
        "**Status**: \n",
        "- Base class created. It is generating text correctly starting from a template file.\n",
        "- Need a new class that can work with a list of problem generating classes."
      ],
      "metadata": {
        "id": "yreozWbJ1zz7"
      }
    },
    {
      "cell_type": "markdown",
      "source": [
        "## Prompt to create a base class for text generation.\n",
        "\n",
        "Create a class called TextGenerator. This class will have:\n",
        "1. A method to load a text file into an attribute called template. The loading should be also possible if a filename is provided on instance creation.\n",
        "2. A method to parse the template and recognize the set of placeholders needed. Curly brackets will be used to designate the placeholders. The recognized placeholders will be stored in a dictionary called parameters.\n",
        "3. An abstract method to compute placeholder values that will use the attribute parameters.\n",
        "4. A method to generate the final string that will use the template and the parameters to replace the placeholders for actual values."
      ],
      "metadata": {
        "id": "zx9T_boY2PR6"
      }
    },
    {
      "cell_type": "code",
      "source": [
        "class TextGenerator:\n",
        "    def __init__(self, filename=None):\n",
        "        self.template = \"\"\n",
        "        self.parameters = {}\n",
        "        if filename:\n",
        "            self.load_template(filename)\n",
        "            self.parse_template()\n",
        "\n",
        "    def load_template(self, filename):\n",
        "        with open(filename, \"r\") as f:\n",
        "            self.template = f.read()\n",
        "\n",
        "    def parse_template(self):\n",
        "        import re\n",
        "        pattern = re.compile(r\"{\\s*([a-zA-Z0-9_]+)\\s*}\")\n",
        "        self.parameters = {match.group(1): None for match in pattern.finditer(self.template)}\n",
        "\n",
        "    def compute_parameters(self):\n",
        "        raise NotImplementedError\n",
        "\n",
        "    def generate_text(self):\n",
        "        for key, value in self.compute_parameters().items():\n",
        "            if key in self.parameters:\n",
        "                self.parameters[key] = value\n",
        "        return self.template.format(**self.parameters)"
      ],
      "metadata": {
        "id": "VhXBYplJ5t8x"
      },
      "execution_count": null,
      "outputs": []
    },
    {
      "cell_type": "markdown",
      "source": [
        "## Prompt:\n",
        "\n",
        "Create a new class called FormulaCuadratica. This class will inherit from TextGenerator. Overload the method compute_parameters with code that performs the following:\n",
        "1. Using sympy define 3 symbols called a,b, and c. Assign to these symbols values taken randomly from a list of values that have numbers from -10 to 10 except zero.\n",
        "2. Create symbol x.\n",
        "3. Create the sympy expression called eq1 that is equivalent to this latex expression 'ax^2 = -bx-c'.\n",
        "4.  Create the sympy expression called formula that is equivalent to this latex expression 'x=\\frac{-b\\pm \\sqrt{b^2-4ac}}{2a}'\n",
        "5. Create a local dictionary called tmp_parameters and store the values for a,b,c,eq1, and formula. In every case convert the value to a latex string.\n",
        "6. Transfer the values from tmp_parameters to attribute parameters. Match corresponding keys, do not overwrite."
      ],
      "metadata": {
        "id": "1AZ9MV_dFHrk"
      }
    },
    {
      "cell_type": "code",
      "source": [
        "from random import choice\n",
        "from sympy import symbols, latex, Eq, sqrt\n",
        "\n",
        "class FormulaCuadratica(TextGenerator):\n",
        "    def __init__(self, filename=None):\n",
        "        super().__init__(filename)\n",
        "\n",
        "    def compute_parameters(self):\n",
        "        a, b, c = symbols('a b c')\n",
        "        x = symbols('x')\n",
        "        nonzero_values = [n for n in range(-10, 11) if n != 0]\n",
        "        a_value, b_value, c_value = choice(nonzero_values), choice(nonzero_values), choice(nonzero_values)\n",
        "        eq1 = Eq(a*x**2, -b*x-c)\n",
        "        formula = Eq(x, (-b+sqrt(b**2-4*a*c))/(2*a))\n",
        "        values = {a:a_value,\n",
        "                  b:b_value,\n",
        "                  c:c_value}  \n",
        "        eq1_subs = eq1.subs(values)      \n",
        "        tmp_parameters = {\n",
        "            'eq1': latex(eq1_subs),\n",
        "            'formula': latex(formula)\n",
        "        }\n",
        "        return tmp_parameters\n"
      ],
      "metadata": {
        "id": "dQoulEDX-4gQ"
      },
      "execution_count": null,
      "outputs": []
    },
    {
      "cell_type": "code",
      "source": [
        "p1 = FormulaCuadratica(filename='problem1.txt')"
      ],
      "metadata": {
        "id": "mRCwJ1st_3rt"
      },
      "execution_count": null,
      "outputs": []
    },
    {
      "cell_type": "code",
      "source": [
        "p1.parameters"
      ],
      "metadata": {
        "colab": {
          "base_uri": "https://localhost:8080/"
        },
        "id": "2jgGN4fXALf2",
        "outputId": "c20c471e-d8f4-4346-917a-c4aff8d1ba5e"
      },
      "execution_count": null,
      "outputs": [
        {
          "output_type": "execute_result",
          "data": {
            "text/plain": [
              "{'eq1': None, 'formula': None}"
            ]
          },
          "metadata": {},
          "execution_count": 71
        }
      ]
    },
    {
      "cell_type": "code",
      "source": [
        "s1 = p1.generate_text()"
      ],
      "metadata": {
        "colab": {
          "base_uri": "https://localhost:8080/"
        },
        "id": "mJx0827cCaDI",
        "outputId": "d750a507-b8b8-4979-af6c-ec79db5f8def"
      },
      "execution_count": null,
      "outputs": [
        {
          "output_type": "stream",
          "name": "stdout",
          "text": [
            "{'eq1': '7 x^{2} = 6 x - 5', 'formula': 'x = \\\\frac{- b + \\\\sqrt{- 4 a c + b^{2}}}{2 a}'}\n"
          ]
        }
      ]
    },
    {
      "cell_type": "code",
      "source": [
        "from IPython.display import display, Markdown\n",
        "display(Markdown(s1))"
      ],
      "metadata": {
        "colab": {
          "base_uri": "https://localhost:8080/",
          "height": 74
        },
        "id": "QfwGTe2qDcuQ",
        "outputId": "836faf36-7a86-4629-a7eb-f4164f54fb81"
      },
      "execution_count": null,
      "outputs": [
        {
          "output_type": "display_data",
          "data": {
            "text/plain": [
              "<IPython.core.display.Markdown object>"
            ],
            "text/markdown": "Dada la ecuación cuadrática $7 x^{2} = 6 x - 5$. Identifique los valores de a, b, c y resuelva la ecuación usando la formula cuadrática $x = \\frac{- b + \\sqrt{- 4 a c + b^{2}}}{2 a}$.\n"
          },
          "metadata": {}
        }
      ]
    }
  ]
}