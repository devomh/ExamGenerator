{
  "cells": [
    {
      "cell_type": "markdown",
      "metadata": {
        "id": "yreozWbJ1zz7"
      },
      "source": [
        "# Math Exam Generator\n",
        "\n",
        "1. Provide a template using plain text.\n",
        "  - Choose appropiate method to express placeholders for later replacement.\n",
        "  - Maybe a kind of hierarchy will be needed to handle templates for questions and a template for the whole exam.\n",
        "1. Establish a class that will control problem generation.\n",
        "  - This class will have a function that will generate a whole question.\n",
        "1. Establish a class that will have a list of problem instances. The class in itself will have a template that will serve to create the final whole exam.\n",
        "\n",
        "\n",
        "**Status**: \n",
        "- Base class created. It is generating text correctly starting from a template file.\n",
        "- Need a new class that can work with a list of problem generating classes."
      ]
    },
    {
      "cell_type": "markdown",
      "metadata": {
        "id": "zx9T_boY2PR6"
      },
      "source": [
        "## Prompt to create a base class for text generation.\n",
        "\n",
        "Create a class called TextGenerator. This class will have:\n",
        "1. A method to load a text file into an attribute called template. The loading should be also possible if a filename is provided on instance creation.\n",
        "2. A method to parse the template and recognize the set of placeholders needed. Curly brackets will be used to designate the placeholders. The recognized placeholders will be stored in a dictionary called parameters.\n",
        "3. An abstract method to compute placeholder values that will use the attribute parameters.\n",
        "4. A method to generate the final string that will use the template and the parameters to replace the placeholders for actual values."
      ]
    },
    {
      "cell_type": "code",
      "execution_count": 57,
      "metadata": {
        "id": "VhXBYplJ5t8x"
      },
      "outputs": [],
      "source": [
        "from string import Template\n",
        "import pypandoc\n",
        "import re\n",
        "import subprocess\n",
        "\n",
        "class TextGenerator:\n",
        "    def __init__(self, name, filename=None, placeholder_type='f-string'):\n",
        "        \"\"\"\n",
        "        placeholder_type: {'f-string','template'}\n",
        "        \"\"\"\n",
        "        self.name = name\n",
        "        self.template = \"\"\n",
        "        self.parameters = {}\n",
        "        self.items = {}\n",
        "        self.generated = \"\"\n",
        "        self.placeholder_type = placeholder_type\n",
        "        if filename:\n",
        "            self.load_template(filename)\n",
        "            self.parse_template()\n",
        "\n",
        "    def load_template(self, filename):        \n",
        "        with open(filename, \"r\") as f:\n",
        "            self.template = f.read()\n",
        "\n",
        "    def parse_template(self):\n",
        "        # Detect placeholders\n",
        "        if self.placeholder_type == 'f-string':\n",
        "            pattern = re.compile(r\"{\\s*([a-zA-Z0-9_]+)\\s*}\")\n",
        "            self.parameters = {match.group(1): None for match in pattern.finditer(self.template)}                        \n",
        "        elif self.placeholder_type == 'template':\n",
        "            pattern = r'\\$[A-Za-z_][A-Za-z0-9_]*'\n",
        "            matches = re.findall(pattern, self.template)\n",
        "            self.parameters = {match[1:]: None for match in matches}\n",
        "\n",
        "    def add_item(self, name, text_generator):\n",
        "        self.items[name] = text_generator\n",
        "\n",
        "    def remove_item(self, name):\n",
        "        del self.items[name]\n",
        "\n",
        "    def clear_items(self):\n",
        "        self.items.clear()\n",
        "\n",
        "    def clear_parameters(self):\n",
        "        self.parameters.clear()\n",
        "\n",
        "    def compute_items(self):\n",
        "        generated_texts = {}\n",
        "        for name, text_generator in self.items.items():\n",
        "            generated_texts[name] = text_generator.generate_text()\n",
        "        return generated_texts\n",
        "\n",
        "    def compute_parameters(self):\n",
        "        return {}\n",
        "    \n",
        "    def generate_text(self):\n",
        "        # Execute compute_parameter and pass results to attribute parameters\n",
        "        for key, value in self.compute_parameters().items():\n",
        "            if key in self.parameters:\n",
        "                self.parameters[key] = value\n",
        "\n",
        "        # Execute compute_items and pass results to attribute parameters\n",
        "        for key, value in self.compute_items().items():\n",
        "            if key in self.parameters:\n",
        "                self.parameters[key] = value\n",
        "\n",
        "        # Generate text, store it, and return it\n",
        "        if self.placeholder_type == 'f-string':\n",
        "            self.generated = self.template.format(**self.parameters)                \n",
        "        elif self.placeholder_type == 'template':\n",
        "            tmp = Template(self.template)\n",
        "            self.generated = tmp.safe_substitute(**self.parameters)\n",
        "\n",
        "        return self.generated\n",
        "    \n",
        "    def save(self,filename='output', source='txt', destination='txt'):\n",
        "        if self.generated != \"\":\n",
        "\n",
        "            filename_ext = f'{filename}.{destination}' \n",
        "            if destination.lower() == 'txt':\n",
        "\n",
        "                with open(filename_ext,'w') as f:\n",
        "                    f.write(self.generated)\n",
        "\n",
        "            elif destination.lower() == 'pdf':\n",
        "\n",
        "                if source.lower() in ['txt','md']:\n",
        "                    \n",
        "                    output = pypandoc.convert_text(self.generated,  'pdf', format='md', outputfile=filename_ext, extra_args=['-V', 'geometry:margin=1in'])\n",
        "                    print(output)\n",
        "\n",
        "                elif source.lower() == 'tex':\n",
        "                    \n",
        "                    with open(filename_ext, \"w\") as f:\n",
        "                        #f.write(f\"\\\\documentclass{{article}}\\n\\\\begin{{document}}\\n{self.generated}\\n\\\\end{{document}}\")\n",
        "                        f.write(self.generated)\n",
        "                    subprocess.run([\"pdflatex\", filename_ext])\n",
        "\n",
        "        else:\n",
        "            print('Nothing to save.')\n"
      ]
    },
    {
      "attachments": {},
      "cell_type": "markdown",
      "metadata": {},
      "source": [
        "## Prompt\n",
        "\n",
        "Considering the code below, create a new class called ExamGenerator that will inherit from TextGenerator. ExamGenerator will have an attribute items, a dictionary of TextGenerator instances. ExamenGenerator methods:\n",
        "1. Add elements to items, it will need a name and a TextGenerator instace.\n",
        "2. Remove element, that receives a name and removes corresponding pair from items.\n",
        "3. Clear items.\n",
        "4. compute_parameters will be override. It will call the generate_text method of every value of the dictionary items. It will return another dictionary of names and generated texts.\n",
        "Code for TextGenerator:\n",
        "Include code of TextGenerator.\n"
      ]
    },
    {
      "cell_type": "code",
      "execution_count": 10,
      "metadata": {},
      "outputs": [],
      "source": [
        "class ExamGenerator(TextGenerator):\n",
        "    def __init__(self, filename=None):\n",
        "        super().__init__(filename)\n",
        "        self.items = {}\n",
        "\n",
        "    def add_item(self, name, text_generator):\n",
        "        self.items[name] = text_generator\n",
        "\n",
        "    def remove_item(self, name):\n",
        "        del self.items[name]\n",
        "\n",
        "    def clear_items(self):\n",
        "        self.items.clear()\n",
        "\n",
        "    def compute_parameters(self):\n",
        "        generated_texts = {}\n",
        "        for name, text_generator in self.items.items():\n",
        "            generated_texts[name] = text_generator.generate_text()\n",
        "        return generated_texts"
      ]
    },
    {
      "cell_type": "markdown",
      "metadata": {
        "id": "1AZ9MV_dFHrk"
      },
      "source": [
        "## Prompt:\n",
        "\n",
        "Create a new class called FormulaCuadratica. This class will inherit from TextGenerator. Overload the method compute_parameters with code that performs the following:\n",
        "1. Using sympy define 3 symbols called a,b, and c. Assign to these symbols values taken randomly from a list of values that have numbers from -10 to 10 except zero.\n",
        "2. Create symbol x.\n",
        "3. Create the sympy expression called eq1 that is equivalent to this latex expression 'ax^2 = -bx-c'.\n",
        "4.  Create the sympy expression called formula that is equivalent to this latex expression 'x=\\frac{-b\\pm \\sqrt{b^2-4ac}}{2a}'\n",
        "5. Create a local dictionary called tmp_parameters and store the values for a,b,c,eq1, and formula. In every case convert the value to a latex string.\n",
        "6. Transfer the values from tmp_parameters to attribute parameters. Match corresponding keys, do not overwrite."
      ]
    },
    {
      "cell_type": "code",
      "execution_count": 58,
      "metadata": {
        "id": "dQoulEDX-4gQ"
      },
      "outputs": [],
      "source": [
        "from random import choice\n",
        "from sympy import symbols, latex, Eq, sqrt\n",
        "\n",
        "class FormulaCuadratica(TextGenerator):\n",
        "    def __init__(self, name, filename=None):\n",
        "        super().__init__(name, filename)\n",
        "\n",
        "    def compute_parameters(self):\n",
        "        a, b, c = symbols('a b c')\n",
        "        x = symbols('x')\n",
        "        nonzero_values = [n for n in range(-10, 11) if n != 0]\n",
        "        a_value, b_value, c_value = choice(nonzero_values), choice(nonzero_values), choice(nonzero_values)\n",
        "        eq1 = Eq(a*x**2, -b*x-c)\n",
        "        formula = Eq(x, (-b+sqrt(b**2-4*a*c))/(2*a))\n",
        "        values = {a:a_value,\n",
        "                  b:b_value,\n",
        "                  c:c_value}  \n",
        "        eq1_subs = eq1.subs(values)      \n",
        "        tmp_parameters = {\n",
        "            'eq1': latex(eq1_subs),\n",
        "            'formula': latex(formula)\n",
        "        }\n",
        "        return tmp_parameters\n"
      ]
    },
    {
      "cell_type": "code",
      "execution_count": 59,
      "metadata": {
        "id": "mRCwJ1st_3rt"
      },
      "outputs": [
        {
          "ename": "NameError",
          "evalue": "name 'text' is not defined",
          "output_type": "error",
          "traceback": [
            "\u001b[0;31m---------------------------------------------------------------------------\u001b[0m",
            "\u001b[0;31mNameError\u001b[0m                                 Traceback (most recent call last)",
            "\u001b[0;32m/tmp/ipykernel_26576/2964294204.py\u001b[0m in \u001b[0;36m<module>\u001b[0;34m\u001b[0m\n\u001b[1;32m      3\u001b[0m \u001b[0mp3\u001b[0m \u001b[0;34m=\u001b[0m \u001b[0mFormulaCuadratica\u001b[0m\u001b[0;34m(\u001b[0m\u001b[0;34m'problema3'\u001b[0m\u001b[0;34m,\u001b[0m\u001b[0mfilename\u001b[0m\u001b[0;34m=\u001b[0m\u001b[0;34m'problem1.txt'\u001b[0m\u001b[0;34m)\u001b[0m\u001b[0;34m\u001b[0m\u001b[0;34m\u001b[0m\u001b[0m\n\u001b[1;32m      4\u001b[0m \u001b[0;34m\u001b[0m\u001b[0m\n\u001b[0;32m----> 5\u001b[0;31m \u001b[0mex1\u001b[0m \u001b[0;34m=\u001b[0m \u001b[0mTextGenerator\u001b[0m\u001b[0;34m(\u001b[0m\u001b[0;34m'examen'\u001b[0m\u001b[0;34m,\u001b[0m\u001b[0mfilename\u001b[0m\u001b[0;34m=\u001b[0m\u001b[0;34m'examen.txt'\u001b[0m\u001b[0;34m,\u001b[0m\u001b[0mplaceholder_type\u001b[0m\u001b[0;34m=\u001b[0m\u001b[0;34m'template'\u001b[0m\u001b[0;34m)\u001b[0m\u001b[0;34m\u001b[0m\u001b[0;34m\u001b[0m\u001b[0m\n\u001b[0m\u001b[1;32m      6\u001b[0m \u001b[0mex1\u001b[0m\u001b[0;34m.\u001b[0m\u001b[0madd_item\u001b[0m\u001b[0;34m(\u001b[0m\u001b[0;34m'problema1'\u001b[0m\u001b[0;34m,\u001b[0m\u001b[0mp1\u001b[0m\u001b[0;34m)\u001b[0m\u001b[0;34m\u001b[0m\u001b[0;34m\u001b[0m\u001b[0m\n\u001b[1;32m      7\u001b[0m \u001b[0mex1\u001b[0m\u001b[0;34m.\u001b[0m\u001b[0madd_item\u001b[0m\u001b[0;34m(\u001b[0m\u001b[0;34m'problema2'\u001b[0m\u001b[0;34m,\u001b[0m\u001b[0mp2\u001b[0m\u001b[0;34m)\u001b[0m\u001b[0;34m\u001b[0m\u001b[0;34m\u001b[0m\u001b[0m\n",
            "\u001b[0;32m/tmp/ipykernel_26576/20075186.py\u001b[0m in \u001b[0;36m__init__\u001b[0;34m(self, name, filename, placeholder_type)\u001b[0m\n\u001b[1;32m     17\u001b[0m         \u001b[0;32mif\u001b[0m \u001b[0mfilename\u001b[0m\u001b[0;34m:\u001b[0m\u001b[0;34m\u001b[0m\u001b[0;34m\u001b[0m\u001b[0m\n\u001b[1;32m     18\u001b[0m             \u001b[0mself\u001b[0m\u001b[0;34m.\u001b[0m\u001b[0mload_template\u001b[0m\u001b[0;34m(\u001b[0m\u001b[0mfilename\u001b[0m\u001b[0;34m)\u001b[0m\u001b[0;34m\u001b[0m\u001b[0;34m\u001b[0m\u001b[0m\n\u001b[0;32m---> 19\u001b[0;31m             \u001b[0mself\u001b[0m\u001b[0;34m.\u001b[0m\u001b[0mparse_template\u001b[0m\u001b[0;34m(\u001b[0m\u001b[0;34m)\u001b[0m\u001b[0;34m\u001b[0m\u001b[0;34m\u001b[0m\u001b[0m\n\u001b[0m\u001b[1;32m     20\u001b[0m \u001b[0;34m\u001b[0m\u001b[0m\n\u001b[1;32m     21\u001b[0m     \u001b[0;32mdef\u001b[0m \u001b[0mload_template\u001b[0m\u001b[0;34m(\u001b[0m\u001b[0mself\u001b[0m\u001b[0;34m,\u001b[0m \u001b[0mfilename\u001b[0m\u001b[0;34m)\u001b[0m\u001b[0;34m:\u001b[0m\u001b[0;34m\u001b[0m\u001b[0;34m\u001b[0m\u001b[0m\n",
            "\u001b[0;32m/tmp/ipykernel_26576/20075186.py\u001b[0m in \u001b[0;36mparse_template\u001b[0;34m(self)\u001b[0m\n\u001b[1;32m     30\u001b[0m         \u001b[0;32melif\u001b[0m \u001b[0mself\u001b[0m\u001b[0;34m.\u001b[0m\u001b[0mplaceholder_type\u001b[0m \u001b[0;34m==\u001b[0m \u001b[0;34m'template'\u001b[0m\u001b[0;34m:\u001b[0m\u001b[0;34m\u001b[0m\u001b[0;34m\u001b[0m\u001b[0m\n\u001b[1;32m     31\u001b[0m             \u001b[0mpattern\u001b[0m \u001b[0;34m=\u001b[0m \u001b[0;34mr'\\$[A-Za-z_][A-Za-z0-9_]*'\u001b[0m\u001b[0;34m\u001b[0m\u001b[0;34m\u001b[0m\u001b[0m\n\u001b[0;32m---> 32\u001b[0;31m             \u001b[0mmatches\u001b[0m \u001b[0;34m=\u001b[0m \u001b[0mre\u001b[0m\u001b[0;34m.\u001b[0m\u001b[0mfindall\u001b[0m\u001b[0;34m(\u001b[0m\u001b[0mpattern\u001b[0m\u001b[0;34m,\u001b[0m \u001b[0mtext\u001b[0m\u001b[0;34m)\u001b[0m\u001b[0;34m\u001b[0m\u001b[0;34m\u001b[0m\u001b[0m\n\u001b[0m\u001b[1;32m     33\u001b[0m             \u001b[0mself\u001b[0m\u001b[0;34m.\u001b[0m\u001b[0mparameters\u001b[0m \u001b[0;34m=\u001b[0m \u001b[0;34m{\u001b[0m\u001b[0mmatch\u001b[0m\u001b[0;34m[\u001b[0m\u001b[0;36m1\u001b[0m\u001b[0;34m:\u001b[0m\u001b[0;34m]\u001b[0m\u001b[0;34m:\u001b[0m \u001b[0;32mNone\u001b[0m \u001b[0;32mfor\u001b[0m \u001b[0mmatch\u001b[0m \u001b[0;32min\u001b[0m \u001b[0mmatches\u001b[0m\u001b[0;34m}\u001b[0m\u001b[0;34m\u001b[0m\u001b[0;34m\u001b[0m\u001b[0m\n\u001b[1;32m     34\u001b[0m \u001b[0;34m\u001b[0m\u001b[0m\n",
            "\u001b[0;31mNameError\u001b[0m: name 'text' is not defined"
          ]
        }
      ],
      "source": [
        "p1 = FormulaCuadratica('problema1',filename='problem1.txt')\n",
        "p2 = FormulaCuadratica('problema2',filename='problem1.txt')\n",
        "p3 = FormulaCuadratica('problema3',filename='problem1.txt')\n",
        "\n",
        "ex1 = TextGenerator('examen',filename='examen.txt',placeholder_type='template')\n",
        "ex1.add_item('problema1',p1)\n",
        "ex1.add_item('problema2',p2)\n",
        "ex1.add_item('problema3',p3)\n",
        "s1 = ex1.generate_text()\n",
        "ex1.save()"
      ]
    },
    {
      "cell_type": "code",
      "execution_count": 47,
      "metadata": {
        "colab": {
          "base_uri": "https://localhost:8080/",
          "height": 74
        },
        "id": "QfwGTe2qDcuQ",
        "outputId": "836faf36-7a86-4629-a7eb-f4164f54fb81"
      },
      "outputs": [
        {
          "data": {
            "text/markdown": [
              "Titulo:\n",
              "\n",
              "1. Dada la ecuación cuadrática $7 x^{2} = 6 x + 8$. Identifique los valores de a, b, c y resuelva la ecuación usando la formula cuadrática $x = \\frac{- b + \\sqrt{- 4 a c + b^{2}}}{2 a}$.\n",
              "\n",
              "End 1\n",
              "\n",
              "2. Dada la ecuación cuadrática $- 4 x^{2} = 6 x - 4$. Identifique los valores de a, b, c y resuelva la ecuación usando la formula cuadrática $x = \\frac{- b + \\sqrt{- 4 a c + b^{2}}}{2 a}$.\n",
              "\n",
              "End 2\n",
              "\n",
              "3. Dada la ecuación cuadrática $- 5 x^{2} = - 6 x - 1$. Identifique los valores de a, b, c y resuelva la ecuación usando la formula cuadrática $x = \\frac{- b + \\sqrt{- 4 a c + b^{2}}}{2 a}$.\n",
              "\n",
              "End 3\n",
              "\n",
              "End Exam\n"
            ],
            "text/plain": [
              "<IPython.core.display.Markdown object>"
            ]
          },
          "metadata": {},
          "output_type": "display_data"
        }
      ],
      "source": [
        "from IPython.display import display, Markdown\n",
        "display(Markdown(s1))"
      ]
    },
    {
      "cell_type": "code",
      "execution_count": 48,
      "metadata": {},
      "outputs": [
        {
          "name": "stdout",
          "output_type": "stream",
          "text": [
            "This is pdfTeX, Version 3.141592653-2.6-1.40.22 (TeX Live 2022/dev/Debian) (preloaded format=pdflatex)\n",
            " restricted \\write18 enabled.\n",
            "entering extended mode\n",
            "(./output.pdf\n",
            "LaTeX2e <2021-11-15> patch level 1\n",
            "L3 programming layer <2022-01-21>\n",
            "\n",
            "! LaTeX Error: Missing \\begin{document}.\n",
            "\n",
            "See the LaTeX manual or LaTeX Companion for explanation.\n",
            "Type  H <return>  for immediate help.\n",
            " ...                                              \n",
            "                                                  \n",
            "l.1 T\n",
            "     itulo:\n",
            "? "
          ]
        },
        {
          "ename": "KeyboardInterrupt",
          "evalue": "",
          "output_type": "error",
          "traceback": [
            "\u001b[0;31m---------------------------------------------------------------------------\u001b[0m",
            "\u001b[0;31mKeyboardInterrupt\u001b[0m                         Traceback (most recent call last)",
            "\u001b[0;32m/tmp/ipykernel_26576/278982038.py\u001b[0m in \u001b[0;36m<module>\u001b[0;34m\u001b[0m\n\u001b[0;32m----> 1\u001b[0;31m \u001b[0mex1\u001b[0m\u001b[0;34m.\u001b[0m\u001b[0msave\u001b[0m\u001b[0;34m(\u001b[0m\u001b[0msource\u001b[0m\u001b[0;34m=\u001b[0m\u001b[0;34m'tex'\u001b[0m\u001b[0;34m,\u001b[0m\u001b[0mdestination\u001b[0m\u001b[0;34m=\u001b[0m\u001b[0;34m'pdf'\u001b[0m\u001b[0;34m)\u001b[0m\u001b[0;34m\u001b[0m\u001b[0;34m\u001b[0m\u001b[0m\n\u001b[0m",
            "\u001b[0;32m/tmp/ipykernel_26576/2226092147.py\u001b[0m in \u001b[0;36msave\u001b[0;34m(self, filename, source, destination)\u001b[0m\n\u001b[1;32m     82\u001b[0m                         \u001b[0;31m#f.write(f\"\\\\documentclass{{article}}\\n\\\\begin{{document}}\\n{self.generated}\\n\\\\end{{document}}\")\u001b[0m\u001b[0;34m\u001b[0m\u001b[0;34m\u001b[0m\u001b[0m\n\u001b[1;32m     83\u001b[0m                         \u001b[0mf\u001b[0m\u001b[0;34m.\u001b[0m\u001b[0mwrite\u001b[0m\u001b[0;34m(\u001b[0m\u001b[0mself\u001b[0m\u001b[0;34m.\u001b[0m\u001b[0mgenerated\u001b[0m\u001b[0;34m)\u001b[0m\u001b[0;34m\u001b[0m\u001b[0;34m\u001b[0m\u001b[0m\n\u001b[0;32m---> 84\u001b[0;31m                     \u001b[0msubprocess\u001b[0m\u001b[0;34m.\u001b[0m\u001b[0mrun\u001b[0m\u001b[0;34m(\u001b[0m\u001b[0;34m[\u001b[0m\u001b[0;34m\"pdflatex\"\u001b[0m\u001b[0;34m,\u001b[0m \u001b[0mfilename_ext\u001b[0m\u001b[0;34m]\u001b[0m\u001b[0;34m)\u001b[0m\u001b[0;34m\u001b[0m\u001b[0;34m\u001b[0m\u001b[0m\n\u001b[0m\u001b[1;32m     85\u001b[0m \u001b[0;34m\u001b[0m\u001b[0m\n\u001b[1;32m     86\u001b[0m         \u001b[0;32melse\u001b[0m\u001b[0;34m:\u001b[0m\u001b[0;34m\u001b[0m\u001b[0;34m\u001b[0m\u001b[0m\n",
            "\u001b[0;32m~/anaconda3/lib/python3.9/subprocess.py\u001b[0m in \u001b[0;36mrun\u001b[0;34m(input, capture_output, timeout, check, *popenargs, **kwargs)\u001b[0m\n\u001b[1;32m    505\u001b[0m     \u001b[0;32mwith\u001b[0m \u001b[0mPopen\u001b[0m\u001b[0;34m(\u001b[0m\u001b[0;34m*\u001b[0m\u001b[0mpopenargs\u001b[0m\u001b[0;34m,\u001b[0m \u001b[0;34m**\u001b[0m\u001b[0mkwargs\u001b[0m\u001b[0;34m)\u001b[0m \u001b[0;32mas\u001b[0m \u001b[0mprocess\u001b[0m\u001b[0;34m:\u001b[0m\u001b[0;34m\u001b[0m\u001b[0;34m\u001b[0m\u001b[0m\n\u001b[1;32m    506\u001b[0m         \u001b[0;32mtry\u001b[0m\u001b[0;34m:\u001b[0m\u001b[0;34m\u001b[0m\u001b[0;34m\u001b[0m\u001b[0m\n\u001b[0;32m--> 507\u001b[0;31m             \u001b[0mstdout\u001b[0m\u001b[0;34m,\u001b[0m \u001b[0mstderr\u001b[0m \u001b[0;34m=\u001b[0m \u001b[0mprocess\u001b[0m\u001b[0;34m.\u001b[0m\u001b[0mcommunicate\u001b[0m\u001b[0;34m(\u001b[0m\u001b[0minput\u001b[0m\u001b[0;34m,\u001b[0m \u001b[0mtimeout\u001b[0m\u001b[0;34m=\u001b[0m\u001b[0mtimeout\u001b[0m\u001b[0;34m)\u001b[0m\u001b[0;34m\u001b[0m\u001b[0;34m\u001b[0m\u001b[0m\n\u001b[0m\u001b[1;32m    508\u001b[0m         \u001b[0;32mexcept\u001b[0m \u001b[0mTimeoutExpired\u001b[0m \u001b[0;32mas\u001b[0m \u001b[0mexc\u001b[0m\u001b[0;34m:\u001b[0m\u001b[0;34m\u001b[0m\u001b[0;34m\u001b[0m\u001b[0m\n\u001b[1;32m    509\u001b[0m             \u001b[0mprocess\u001b[0m\u001b[0;34m.\u001b[0m\u001b[0mkill\u001b[0m\u001b[0;34m(\u001b[0m\u001b[0;34m)\u001b[0m\u001b[0;34m\u001b[0m\u001b[0;34m\u001b[0m\u001b[0m\n",
            "\u001b[0;32m~/anaconda3/lib/python3.9/subprocess.py\u001b[0m in \u001b[0;36mcommunicate\u001b[0;34m(self, input, timeout)\u001b[0m\n\u001b[1;32m   1124\u001b[0m                 \u001b[0mstderr\u001b[0m \u001b[0;34m=\u001b[0m \u001b[0mself\u001b[0m\u001b[0;34m.\u001b[0m\u001b[0mstderr\u001b[0m\u001b[0;34m.\u001b[0m\u001b[0mread\u001b[0m\u001b[0;34m(\u001b[0m\u001b[0;34m)\u001b[0m\u001b[0;34m\u001b[0m\u001b[0;34m\u001b[0m\u001b[0m\n\u001b[1;32m   1125\u001b[0m                 \u001b[0mself\u001b[0m\u001b[0;34m.\u001b[0m\u001b[0mstderr\u001b[0m\u001b[0;34m.\u001b[0m\u001b[0mclose\u001b[0m\u001b[0;34m(\u001b[0m\u001b[0;34m)\u001b[0m\u001b[0;34m\u001b[0m\u001b[0;34m\u001b[0m\u001b[0m\n\u001b[0;32m-> 1126\u001b[0;31m             \u001b[0mself\u001b[0m\u001b[0;34m.\u001b[0m\u001b[0mwait\u001b[0m\u001b[0;34m(\u001b[0m\u001b[0;34m)\u001b[0m\u001b[0;34m\u001b[0m\u001b[0;34m\u001b[0m\u001b[0m\n\u001b[0m\u001b[1;32m   1127\u001b[0m         \u001b[0;32melse\u001b[0m\u001b[0;34m:\u001b[0m\u001b[0;34m\u001b[0m\u001b[0;34m\u001b[0m\u001b[0m\n\u001b[1;32m   1128\u001b[0m             \u001b[0;32mif\u001b[0m \u001b[0mtimeout\u001b[0m \u001b[0;32mis\u001b[0m \u001b[0;32mnot\u001b[0m \u001b[0;32mNone\u001b[0m\u001b[0;34m:\u001b[0m\u001b[0;34m\u001b[0m\u001b[0;34m\u001b[0m\u001b[0m\n",
            "\u001b[0;32m~/anaconda3/lib/python3.9/subprocess.py\u001b[0m in \u001b[0;36mwait\u001b[0;34m(self, timeout)\u001b[0m\n\u001b[1;32m   1187\u001b[0m             \u001b[0mendtime\u001b[0m \u001b[0;34m=\u001b[0m \u001b[0m_time\u001b[0m\u001b[0;34m(\u001b[0m\u001b[0;34m)\u001b[0m \u001b[0;34m+\u001b[0m \u001b[0mtimeout\u001b[0m\u001b[0;34m\u001b[0m\u001b[0;34m\u001b[0m\u001b[0m\n\u001b[1;32m   1188\u001b[0m         \u001b[0;32mtry\u001b[0m\u001b[0;34m:\u001b[0m\u001b[0;34m\u001b[0m\u001b[0;34m\u001b[0m\u001b[0m\n\u001b[0;32m-> 1189\u001b[0;31m             \u001b[0;32mreturn\u001b[0m \u001b[0mself\u001b[0m\u001b[0;34m.\u001b[0m\u001b[0m_wait\u001b[0m\u001b[0;34m(\u001b[0m\u001b[0mtimeout\u001b[0m\u001b[0;34m=\u001b[0m\u001b[0mtimeout\u001b[0m\u001b[0;34m)\u001b[0m\u001b[0;34m\u001b[0m\u001b[0;34m\u001b[0m\u001b[0m\n\u001b[0m\u001b[1;32m   1190\u001b[0m         \u001b[0;32mexcept\u001b[0m \u001b[0mKeyboardInterrupt\u001b[0m\u001b[0;34m:\u001b[0m\u001b[0;34m\u001b[0m\u001b[0;34m\u001b[0m\u001b[0m\n\u001b[1;32m   1191\u001b[0m             \u001b[0;31m# https://bugs.python.org/issue25942\u001b[0m\u001b[0;34m\u001b[0m\u001b[0;34m\u001b[0m\u001b[0m\n",
            "\u001b[0;32m~/anaconda3/lib/python3.9/subprocess.py\u001b[0m in \u001b[0;36m_wait\u001b[0;34m(self, timeout)\u001b[0m\n\u001b[1;32m   1915\u001b[0m                         \u001b[0;32mif\u001b[0m \u001b[0mself\u001b[0m\u001b[0;34m.\u001b[0m\u001b[0mreturncode\u001b[0m \u001b[0;32mis\u001b[0m \u001b[0;32mnot\u001b[0m \u001b[0;32mNone\u001b[0m\u001b[0;34m:\u001b[0m\u001b[0;34m\u001b[0m\u001b[0;34m\u001b[0m\u001b[0m\n\u001b[1;32m   1916\u001b[0m                             \u001b[0;32mbreak\u001b[0m  \u001b[0;31m# Another thread waited.\u001b[0m\u001b[0;34m\u001b[0m\u001b[0;34m\u001b[0m\u001b[0m\n\u001b[0;32m-> 1917\u001b[0;31m                         \u001b[0;34m(\u001b[0m\u001b[0mpid\u001b[0m\u001b[0;34m,\u001b[0m \u001b[0msts\u001b[0m\u001b[0;34m)\u001b[0m \u001b[0;34m=\u001b[0m \u001b[0mself\u001b[0m\u001b[0;34m.\u001b[0m\u001b[0m_try_wait\u001b[0m\u001b[0;34m(\u001b[0m\u001b[0;36m0\u001b[0m\u001b[0;34m)\u001b[0m\u001b[0;34m\u001b[0m\u001b[0;34m\u001b[0m\u001b[0m\n\u001b[0m\u001b[1;32m   1918\u001b[0m                         \u001b[0;31m# Check the pid and loop as waitpid has been known to\u001b[0m\u001b[0;34m\u001b[0m\u001b[0;34m\u001b[0m\u001b[0m\n\u001b[1;32m   1919\u001b[0m                         \u001b[0;31m# return 0 even without WNOHANG in odd situations.\u001b[0m\u001b[0;34m\u001b[0m\u001b[0;34m\u001b[0m\u001b[0m\n",
            "\u001b[0;32m~/anaconda3/lib/python3.9/subprocess.py\u001b[0m in \u001b[0;36m_try_wait\u001b[0;34m(self, wait_flags)\u001b[0m\n\u001b[1;32m   1873\u001b[0m             \u001b[0;34m\"\"\"All callers to this function MUST hold self._waitpid_lock.\"\"\"\u001b[0m\u001b[0;34m\u001b[0m\u001b[0;34m\u001b[0m\u001b[0m\n\u001b[1;32m   1874\u001b[0m             \u001b[0;32mtry\u001b[0m\u001b[0;34m:\u001b[0m\u001b[0;34m\u001b[0m\u001b[0;34m\u001b[0m\u001b[0m\n\u001b[0;32m-> 1875\u001b[0;31m                 \u001b[0;34m(\u001b[0m\u001b[0mpid\u001b[0m\u001b[0;34m,\u001b[0m \u001b[0msts\u001b[0m\u001b[0;34m)\u001b[0m \u001b[0;34m=\u001b[0m \u001b[0mos\u001b[0m\u001b[0;34m.\u001b[0m\u001b[0mwaitpid\u001b[0m\u001b[0;34m(\u001b[0m\u001b[0mself\u001b[0m\u001b[0;34m.\u001b[0m\u001b[0mpid\u001b[0m\u001b[0;34m,\u001b[0m \u001b[0mwait_flags\u001b[0m\u001b[0;34m)\u001b[0m\u001b[0;34m\u001b[0m\u001b[0;34m\u001b[0m\u001b[0m\n\u001b[0m\u001b[1;32m   1876\u001b[0m             \u001b[0;32mexcept\u001b[0m \u001b[0mChildProcessError\u001b[0m\u001b[0;34m:\u001b[0m\u001b[0;34m\u001b[0m\u001b[0;34m\u001b[0m\u001b[0m\n\u001b[1;32m   1877\u001b[0m                 \u001b[0;31m# This happens if SIGCLD is set to be ignored or waiting\u001b[0m\u001b[0;34m\u001b[0m\u001b[0;34m\u001b[0m\u001b[0m\n",
            "\u001b[0;31mKeyboardInterrupt\u001b[0m: "
          ]
        }
      ],
      "source": [
        "ex1.save(source='tex',destination='pdf')"
      ]
    }
  ],
  "metadata": {
    "colab": {
      "provenance": []
    },
    "kernelspec": {
      "display_name": "Python 3",
      "name": "python3"
    },
    "language_info": {
      "codemirror_mode": {
        "name": "ipython",
        "version": 3
      },
      "file_extension": ".py",
      "mimetype": "text/x-python",
      "name": "python",
      "nbconvert_exporter": "python",
      "pygments_lexer": "ipython3",
      "version": "3.9.12"
    }
  },
  "nbformat": 4,
  "nbformat_minor": 0
}
