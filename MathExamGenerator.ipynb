{
  "cells": [
    {
      "cell_type": "markdown",
      "metadata": {
        "id": "yreozWbJ1zz7"
      },
      "source": [
        "# Math Exam Generator\n",
        "\n",
        "1. Provide a template using plain text.\n",
        "  - Choose appropiate method to express placeholders for later replacement.\n",
        "  - Maybe a kind of hierarchy will be needed to handle templates for questions and a template for the whole exam.\n",
        "1. Establish a class that will control problem generation.\n",
        "  - This class will have a function that will generate a whole question.\n",
        "1. Establish a class that will have a list of problem instances. The class in itself will have a template that will serve to create the final whole exam.\n",
        "\n",
        "\n",
        "**Status**: \n",
        "- Base class created. It is generating text correctly starting from a template file.\n",
        "- Need a new class that can work with a list of problem generating classes."
      ]
    },
    {
      "cell_type": "markdown",
      "metadata": {
        "id": "zx9T_boY2PR6"
      },
      "source": [
        "## Prompt to create a base class for text generation.\n",
        "\n",
        "Create a class called TextGenerator. This class will have:\n",
        "1. A method to load a text file into an attribute called template. The loading should be also possible if a filename is provided on instance creation.\n",
        "2. A method to parse the template and recognize the set of placeholders needed. Curly brackets will be used to designate the placeholders. The recognized placeholders will be stored in a dictionary called parameters.\n",
        "3. An abstract method to compute placeholder values that will use the attribute parameters.\n",
        "4. A method to generate the final string that will use the template and the parameters to replace the placeholders for actual values."
      ]
    },
    {
      "cell_type": "code",
      "execution_count": 9,
      "metadata": {
        "id": "VhXBYplJ5t8x"
      },
      "outputs": [],
      "source": [
        "class TextGenerator:\n",
        "    def __init__(self, filename=None):\n",
        "        self.template = \"\"\n",
        "        self.parameters = {}\n",
        "        self.generated = \"\"\n",
        "        if filename:\n",
        "            self.load_template(filename)\n",
        "            self.parse_template()\n",
        "\n",
        "    def load_template(self, filename):\n",
        "        with open(filename, \"r\") as f:\n",
        "            self.template = f.read()\n",
        "\n",
        "    def parse_template(self):\n",
        "        import re\n",
        "        pattern = re.compile(r\"{\\s*([a-zA-Z0-9_]+)\\s*}\")\n",
        "        self.parameters = {match.group(1): None for match in pattern.finditer(self.template)}\n",
        "\n",
        "    def compute_parameters(self):\n",
        "        raise NotImplementedError\n",
        "\n",
        "    def generate_text(self):\n",
        "        for key, value in self.compute_parameters().items():\n",
        "            if key in self.parameters:\n",
        "                self.parameters[key] = value\n",
        "        self.generated = self.template.format(**self.parameters)                \n",
        "        return self.generated\n",
        "    \n",
        "    def save(self,filename='output.txt', filetype='txt'):\n",
        "        if self.generated != \"\":\n",
        "            if filetype.lower() == 'txt':\n",
        "                with open(f'{filename}.{filetype}','w') as f:\n",
        "                    f.write(self.generated)\n",
        "            # Consider to add code to save txt2txt, txt2md and txt2pdf or something similar        \n",
        "            # elif filetype.lower() == 'md':\n",
        "            # elif filetype.lower() == 'pdf':\n",
        "        else:\n",
        "            print('Nothing to save.')\n"
      ]
    },
    {
      "attachments": {},
      "cell_type": "markdown",
      "metadata": {},
      "source": [
        "## Prompt\n",
        "\n",
        "Considering the code below, create a new class called ExamGenerator that will inherit from TextGenerator. ExamGenerator will have an attribute items, a dictionary of TextGenerator instances. ExamenGenerator methods:\n",
        "1. Add elements to items, it will need a name and a TextGenerator instace.\n",
        "2. Remove element, that receives a name and removes corresponding pair from items.\n",
        "3. Clear items.\n",
        "4. compute_parameters will be override. It will call the generate_text method of every value of the dictionary items. It will return another dictionary of names and generated texts.\n",
        "Code for TextGenerator:\n",
        "Include code of TextGenerator.\n"
      ]
    },
    {
      "cell_type": "code",
      "execution_count": 10,
      "metadata": {},
      "outputs": [],
      "source": [
        "class ExamGenerator(TextGenerator):\n",
        "    def __init__(self, filename=None):\n",
        "        super().__init__(filename)\n",
        "        self.items = {}\n",
        "\n",
        "    def add_item(self, name, text_generator):\n",
        "        self.items[name] = text_generator\n",
        "\n",
        "    def remove_item(self, name):\n",
        "        del self.items[name]\n",
        "\n",
        "    def clear_items(self):\n",
        "        self.items.clear()\n",
        "\n",
        "    def compute_parameters(self):\n",
        "        generated_texts = {}\n",
        "        for name, text_generator in self.items.items():\n",
        "            generated_texts[name] = text_generator.generate_text()\n",
        "        return generated_texts"
      ]
    },
    {
      "cell_type": "markdown",
      "metadata": {
        "id": "1AZ9MV_dFHrk"
      },
      "source": [
        "## Prompt:\n",
        "\n",
        "Create a new class called FormulaCuadratica. This class will inherit from TextGenerator. Overload the method compute_parameters with code that performs the following:\n",
        "1. Using sympy define 3 symbols called a,b, and c. Assign to these symbols values taken randomly from a list of values that have numbers from -10 to 10 except zero.\n",
        "2. Create symbol x.\n",
        "3. Create the sympy expression called eq1 that is equivalent to this latex expression 'ax^2 = -bx-c'.\n",
        "4.  Create the sympy expression called formula that is equivalent to this latex expression 'x=\\frac{-b\\pm \\sqrt{b^2-4ac}}{2a}'\n",
        "5. Create a local dictionary called tmp_parameters and store the values for a,b,c,eq1, and formula. In every case convert the value to a latex string.\n",
        "6. Transfer the values from tmp_parameters to attribute parameters. Match corresponding keys, do not overwrite."
      ]
    },
    {
      "cell_type": "code",
      "execution_count": 11,
      "metadata": {
        "id": "dQoulEDX-4gQ"
      },
      "outputs": [],
      "source": [
        "from random import choice\n",
        "from sympy import symbols, latex, Eq, sqrt\n",
        "\n",
        "class FormulaCuadratica(TextGenerator):\n",
        "    def __init__(self, filename=None):\n",
        "        super().__init__(filename)\n",
        "\n",
        "    def compute_parameters(self):\n",
        "        a, b, c = symbols('a b c')\n",
        "        x = symbols('x')\n",
        "        nonzero_values = [n for n in range(-10, 11) if n != 0]\n",
        "        a_value, b_value, c_value = choice(nonzero_values), choice(nonzero_values), choice(nonzero_values)\n",
        "        eq1 = Eq(a*x**2, -b*x-c)\n",
        "        formula = Eq(x, (-b+sqrt(b**2-4*a*c))/(2*a))\n",
        "        values = {a:a_value,\n",
        "                  b:b_value,\n",
        "                  c:c_value}  \n",
        "        eq1_subs = eq1.subs(values)      \n",
        "        tmp_parameters = {\n",
        "            'eq1': latex(eq1_subs),\n",
        "            'formula': latex(formula)\n",
        "        }\n",
        "        return tmp_parameters\n"
      ]
    },
    {
      "cell_type": "code",
      "execution_count": 12,
      "metadata": {
        "id": "mRCwJ1st_3rt"
      },
      "outputs": [],
      "source": [
        "p1 = FormulaCuadratica(filename='problem1.txt')\n",
        "p2 = FormulaCuadratica(filename='problem1.txt')\n",
        "p3 = FormulaCuadratica(filename='problem1.txt')\n",
        "\n",
        "ex1 = ExamGenerator(filename='examen.txt')\n",
        "ex1.add_item('problema1',p1)\n",
        "ex1.add_item('problema2',p2)\n",
        "ex1.add_item('problema3',p3)\n",
        "s1 = ex1.generate_text()\n",
        "ex1.save()"
      ]
    },
    {
      "cell_type": "code",
      "execution_count": 13,
      "metadata": {
        "colab": {
          "base_uri": "https://localhost:8080/",
          "height": 74
        },
        "id": "QfwGTe2qDcuQ",
        "outputId": "836faf36-7a86-4629-a7eb-f4164f54fb81"
      },
      "outputs": [
        {
          "data": {
            "text/markdown": [
              "Titulo:\n",
              "\n",
              "1. Dada la ecuación cuadrática $2 x^{2} = 3 - x$. Identifique los valores de a, b, c y resuelva la ecuación usando la formula cuadrática $x = \\frac{- b + \\sqrt{- 4 a c + b^{2}}}{2 a}$.\n",
              "\n",
              "End 1\n",
              "\n",
              "2. Dada la ecuación cuadrática $- 2 x^{2} = 4 x - 8$. Identifique los valores de a, b, c y resuelva la ecuación usando la formula cuadrática $x = \\frac{- b + \\sqrt{- 4 a c + b^{2}}}{2 a}$.\n",
              "\n",
              "End 2\n",
              "\n",
              "3. Dada la ecuación cuadrática $- 10 x^{2} = 8 x + 9$. Identifique los valores de a, b, c y resuelva la ecuación usando la formula cuadrática $x = \\frac{- b + \\sqrt{- 4 a c + b^{2}}}{2 a}$.\n",
              "\n",
              "End 3\n",
              "\n",
              "End Exam"
            ],
            "text/plain": [
              "<IPython.core.display.Markdown object>"
            ]
          },
          "metadata": {},
          "output_type": "display_data"
        }
      ],
      "source": [
        "from IPython.display import display, Markdown\n",
        "display(Markdown(s1))"
      ]
    },
    {
      "cell_type": "code",
      "execution_count": null,
      "metadata": {},
      "outputs": [],
      "source": []
    }
  ],
  "metadata": {
    "colab": {
      "provenance": []
    },
    "kernelspec": {
      "display_name": "Python 3",
      "name": "python3"
    },
    "language_info": {
      "codemirror_mode": {
        "name": "ipython",
        "version": 3
      },
      "file_extension": ".py",
      "mimetype": "text/x-python",
      "name": "python",
      "nbconvert_exporter": "python",
      "pygments_lexer": "ipython3",
      "version": "3.9.12"
    }
  },
  "nbformat": 4,
  "nbformat_minor": 0
}
